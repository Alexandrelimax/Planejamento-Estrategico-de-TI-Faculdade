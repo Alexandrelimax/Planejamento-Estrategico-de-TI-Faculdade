{
 "cells": [
  {
   "cell_type": "markdown",
   "metadata": {},
   "source": [
    "# **Planejamento Estratégico de TI**\n",
    "\n",
    "Bem-vindos! Neste notebook, vamos explorar o conceito de planejamento estratégico de TI, que é estruturado em três níveis principais: **Estratégico**, **Tático** e **Operacional**. \n",
    "\n",
    "Organizei tudo aqui em um notebook pra facilitar a visualização da pirâmide, que ajuda a entender como cada nível se conecta e o papel de cada um no dia a dia da TI. A ideia é que vocês consigam ver, de forma gráfica e prática, como é o planejamento estratégico.\n",
    "\n",
    "Espero que curtam e que isso ajude a entender melhor como a TI pode estar sempre alinhada com os objetivos da empresa!\n"
   ]
  },
  {
   "cell_type": "markdown",
   "metadata": {},
   "source": [
    "## Estrutura da Pirâmide de Planejamento Estratégico de TI\n",
    "\n",
    "A pirâmide do planejamento estratégico em TI é dividida em três níveis, conforme ilustrado abaixo:\n",
    "\n",
    "```plaintext\n",
    "           +----------------------------+\n",
    "           |     Nível Estratégico      |\n",
    "           +----------------------------+\n",
    "           | - Decisões de longo prazo  |\n",
    "           | - Alinhamento com os       |\n",
    "           |   objetivos da empresa     |\n",
    "           | - Definição de metas e     |\n",
    "           |   estratégias gerais de TI |\n",
    "           +----------------------------+\n",
    "\n",
    "           +----------------------------+\n",
    "           |       Nível Tático         |\n",
    "           +----------------------------+\n",
    "           | - Transformação das        |\n",
    "           |   estratégias em planos    |\n",
    "           |   de médio prazo           |\n",
    "           | - Gestão de projetos e     |\n",
    "           |   recursos de TI           |\n",
    "           | - Consolidação do          |\n",
    "           |   portfólio de TI          |\n",
    "           +----------------------------+\n",
    "\n",
    "           +----------------------------+\n",
    "           |     Nível Operacional      |\n",
    "           +----------------------------+\n",
    "           | - Execução das atividades  |\n",
    "           |   do dia a dia             |\n",
    "           | - Manutenção e suporte     |\n",
    "           |   da infraestrutura de TI  |\n",
    "           | - Resolução de problemas   |\n",
    "           |   operacionais             |\n",
    "           +----------------------------+\n"
   ]
  },
  {
   "cell_type": "markdown",
   "metadata": {},
   "source": [
    "## **Descrição dos Níveis**\n",
    "\n",
    "### 1. Nível Estratégico\n",
    "No topo da pirâmide, temos o **Nível Estratégico**. É aqui que acontecem as grandes decisões pra garantir que a TI esteja alinhada com a visão de longo prazo da empresa. Nesse nível, a equipe de TI trabalha em conjunto com outros setores para definir metas de longo prazo, identificar oportunidades de crescimento e inovação, e estabelecer políticas que vão guiar a área de TI. Esse alinhamento com os objetivos da organização ajuda a TI não só a dar suporte, mas também a impulsionar a competitividade da empresa.\n",
    "\n",
    "**Objetivos**:\n",
    "- Definir metas de longo prazo para a TI.\n",
    "- Alinhar a estratégia de TI com a estratégia de negócios.\n",
    "- Identificar novas tecnologias e oportunidades estratégicas que agreguem valor.\n"
   ]
  },
  {
   "cell_type": "markdown",
   "metadata": {},
   "source": [
    "### 2. Nível Tático\n",
    "No meio da pirâmide, temos o **Nível Tático**. Esse é o nível que transforma as estratégias de longo prazo em planos de ação e projetos mais concretos, voltados pro médio prazo. A equipe de TI aqui define o portfólio de projetos, coordena os recursos e estabelece prioridades, garantindo que tudo o que foi planejado estrategicamente comece a sair do papel. Além disso, o nível tático é fundamental para acompanhar o progresso dos projetos, usando KPIs (indicadores de desempenho) que ajudam a fazer ajustes quando necessário.\n",
    "\n",
    "**Objetivos**:\n",
    "- Gerenciar projetos e recursos de TI.\n",
    "- Traduzir as estratégias em planos operacionais concretos.\n",
    "- Consolidar o portfólio de TI e priorizar as iniciativas mais importantes.\n",
    "- Monitorar o progresso com KPIs, garantindo que esteja sempre alinhado com o plano estratégico.\n"
   ]
  },
  {
   "cell_type": "markdown",
   "metadata": {},
   "source": [
    "### 3. Nível Operacional\n",
    "Na base da pirâmide, está o **Nível Operacional**, onde rolam as atividades práticas do dia a dia da TI. O foco aqui é manter a infraestrutura e os sistemas funcionando direitinho, realizar manutenções e resolver qualquer problema que apareça. O nível operacional assegura que as operações de TI sejam eficientes e seguras, mantendo dados protegidos e serviços disponíveis. Também é onde ocorre o monitoramento contínuo das atividades, e onde a TI se adapta às novas demandas tecnológicas e de mercado.\n",
    "\n",
    "**Objetivos**:\n",
    "- Executar atividades de curto prazo e de rotina.\n",
    "- Manter e monitorar a infraestrutura de TI, garantindo a continuidade.\n",
    "- Resolver problemas operacionais de forma rápida e eficiente.\n",
    "- Implementar práticas de segurança para proteger a integridade e disponibilidade dos dados."
   ]
  },
  {
   "cell_type": "markdown",
   "metadata": {},
   "source": [
    "## **Análise Visual dos Níveis**\n",
    "\n",
    "Abaixo, você encontra uma representação visual que pode ser útil para compreender a aplicação dos três níveis na prática:\n",
    "\n",
    "```plaintext\n",
    "          Estrategia de Longo Prazo\n",
    "                  (Visão)\n",
    "                    |\n",
    "        ----------------------------\n",
    "       |      Nível Estratégico     |\n",
    "        ----------------------------\n",
    "                   |\n",
    "    Transformação de Estratégias em Planos\n",
    "                   |\n",
    "        ----------------------------\n",
    "       |       Nível Tático         |\n",
    "        ----------------------------\n",
    "                   |\n",
    "        Execução e Manutenção Diária\n",
    "                   |\n",
    "        ----------------------------\n",
    "       |    Nível Operacional       |\n",
    "        ----------------------------\n"
   ]
  },
  {
   "cell_type": "markdown",
   "metadata": {},
   "source": [
    "### **FIM!**\n"
   ]
  },
  {
   "cell_type": "markdown",
   "metadata": {},
   "source": []
  }
 ],
 "metadata": {
  "language_info": {
   "name": "python"
  }
 },
 "nbformat": 4,
 "nbformat_minor": 2
}
