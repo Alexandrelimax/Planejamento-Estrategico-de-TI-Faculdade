{
 "cells": [
  {
   "cell_type": "markdown",
   "metadata": {},
   "source": [
    "# **Planejamento Estratégico em TI**\n",
    "\n",
    "Bem-vindos! Neste notebook, vamos explorar o conceito de planejamento estratégico em TI, que é estruturado em três níveis principais: **Estratégico**, **Tático** e **Operacional**. \n",
    "\n",
    "Organizei tudo aqui em um notebook pra facilitar a visualização da famosa pirâmide, que ajuda a entender como cada nível se conecta e o papel de cada um no dia a dia da TI. A ideia é que vocês consigam ver, de forma gráfica e prática, como é o planejamento estratégico.\n",
    "\n",
    "Espero que curtam e que isso ajude a entender melhor como a TI pode estar sempre alinhada com os objetivos da empresa!\n"
   ]
  },
  {
   "cell_type": "markdown",
   "metadata": {},
   "source": [
    "## Estrutura da Pirâmide de Planejamento Estratégico em TI\n",
    "\n",
    "A pirâmide do planejamento estratégico em TI é dividida em três níveis, conforme ilustrado abaixo:\n",
    "\n",
    "```plaintext\n",
    "           +----------------------------+\n",
    "           |     Nível Estratégico      |\n",
    "           +----------------------------+\n",
    "           | - Decisões de longo prazo  |\n",
    "           | - Alinhamento com os       |\n",
    "           |   objetivos da empresa     |\n",
    "           | - Definição de metas e     |\n",
    "           |   estratégias gerais de TI |\n",
    "           +----------------------------+\n",
    "\n",
    "           +----------------------------+\n",
    "           |       Nível Tático         |\n",
    "           +----------------------------+\n",
    "           | - Transformação das        |\n",
    "           |   estratégias em planos    |\n",
    "           |   de médio prazo           |\n",
    "           | - Gestão de projetos e     |\n",
    "           |   recursos de TI           |\n",
    "           | - Consolidação do          |\n",
    "           |   portfólio de TI          |\n",
    "           +----------------------------+\n",
    "\n",
    "           +----------------------------+\n",
    "           |     Nível Operacional      |\n",
    "           +----------------------------+\n",
    "           | - Execução das atividades  |\n",
    "           |   do dia a dia             |\n",
    "           | - Manutenção e suporte     |\n",
    "           |   da infraestrutura de TI  |\n",
    "           | - Resolução de problemas   |\n",
    "           |   operacionais             |\n",
    "           +----------------------------+\n"
   ]
  },
  {
   "cell_type": "markdown",
   "metadata": {},
   "source": [
    "## **Descrição dos Níveis**\n",
    "\n",
    "### 1. Nível Estratégico\n",
    "Lá no topo da pirâmide, a gente tem o nível **Estratégico**. É onde rolam as grandes decisões e o alinhamento da TI com os objetivos da empresa. Esse nível define o que a empresa quer a longo prazo, traçando metas amplas pra TI, focando sempre no crescimento, na inovação e na competitividade. \n",
    "\n",
    "**Objetivos**:\n",
    "- Definir metas de longo prazo para a TI.\n",
    "- Alinhar a estratégia de TI com a estratégia de negócios.\n",
    "- Identificar novas tecnologias e oportunidades estratégicas."
   ]
  },
  {
   "cell_type": "markdown",
   "metadata": {},
   "source": [
    "### 2. Nível Tático\n",
    "No meio da pirâmide, o nível **Tático** transforma as estratégias em planos e ações concretas, com foco no médio prazo. Este nível gerencia o portfólio de projetos de TI e organiza os recursos necessários para realizar o plano estratégico.\n",
    "\n",
    "**Objetivos**:\n",
    "- Gerenciar projetos e recursos de TI.\n",
    "- Transformar as estratégias em planos operacionais.\n",
    "- Consolidar o portfólio de TI e priorizar iniciativas."
   ]
  },
  {
   "cell_type": "markdown",
   "metadata": {},
   "source": [
    "### 3. Nível Operacional\n",
    "Na base da pirâmide, o nível **Operacional** é responsável pela execução das atividades diárias e pelo funcionamento da infraestrutura de TI.  \n",
    "O foco aqui é garantir que os sistemas e serviços de TI estejam disponíveis e funcionando de maneira eficiente.\n",
    "\n",
    "**Objetivos**:\n",
    "- Executar atividades de curto prazo.\n",
    "- Manter e monitorar a infraestrutura de TI.\n",
    "- Resolver problemas operacionais e garantir a continuidade do serviço."
   ]
  },
  {
   "cell_type": "markdown",
   "metadata": {},
   "source": [
    "## **Análise Visual dos Níveis**\n",
    "\n",
    "Abaixo, você encontra uma representação visual que pode ser útil para compreender a aplicação dos três níveis na prática:\n",
    "\n",
    "```plaintext\n",
    "          Estrategia de Longo Prazo\n",
    "                  (Visão)\n",
    "                    |\n",
    "        ----------------------------\n",
    "       |      Nível Estratégico     |\n",
    "        ----------------------------\n",
    "                   |\n",
    "    Transformação de Estratégias em Planos\n",
    "                   |\n",
    "        ----------------------------\n",
    "       |       Nível Tático         |\n",
    "        ----------------------------\n",
    "                   |\n",
    "        Execução e Manutenção Diária\n",
    "                   |\n",
    "        ----------------------------\n",
    "       |    Nível Operacional       |\n",
    "        ----------------------------\n"
   ]
  },
  {
   "cell_type": "markdown",
   "metadata": {},
   "source": [
    "### **FIM!**"
   ]
  },
  {
   "cell_type": "markdown",
   "metadata": {},
   "source": []
  }
 ],
 "metadata": {
  "language_info": {
   "name": "python"
  }
 },
 "nbformat": 4,
 "nbformat_minor": 2
}
